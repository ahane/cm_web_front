{
 "metadata": {
  "name": "",
  "signature": "sha256:e2933e59fa73975752a07c4f33100c61d748094ec4313c717367004abea0df60"
 },
 "nbformat": 3,
 "nbformat_minor": 0,
 "worksheets": [
  {
   "cells": [
    {
     "cell_type": "code",
     "collapsed": false,
     "input": [
      "import requests\n",
      "import json\n",
      "import geojson"
     ],
     "language": "python",
     "metadata": {},
     "outputs": [],
     "prompt_number": 52
    },
    {
     "cell_type": "code",
     "collapsed": false,
     "input": [
      "a = requests.get('http://127.0.0.1:5000/berlin/today')\n",
      "events = json.loads(a.text)['events']"
     ],
     "language": "python",
     "metadata": {},
     "outputs": [],
     "prompt_number": 73
    },
    {
     "cell_type": "code",
     "collapsed": false,
     "input": [
      "features = []\n",
      "for event in events:\n",
      "    if 'club' in event.keys():\n",
      "        lat, lon = event['club']['latlon']\n",
      "        point = geojson.Point((lon, lat))\n",
      "        \n",
      "        feature = geojson.Feature(id=event['club']['name'], geometry=point)\n",
      "        props = event\n",
      "        feature['properties'] = props\n",
      "        features.append(feature)\n",
      "    "
     ],
     "language": "python",
     "metadata": {},
     "outputs": [],
     "prompt_number": 74
    },
    {
     "cell_type": "code",
     "collapsed": false,
     "input": [
      "fc = geojson.FeatureCollection(features)"
     ],
     "language": "python",
     "metadata": {},
     "outputs": [],
     "prompt_number": 75
    },
    {
     "cell_type": "code",
     "collapsed": false,
     "input": [
      "with open('today.geo.json', 'w') as f:\n",
      "    f.write(geojson.dumps(fc))"
     ],
     "language": "python",
     "metadata": {},
     "outputs": [],
     "prompt_number": 76
    },
    {
     "cell_type": "code",
     "collapsed": false,
     "input": [
      "fc"
     ],
     "language": "python",
     "metadata": {},
     "outputs": [
      {
       "metadata": {},
       "output_type": "pyout",
       "prompt_number": 77,
       "text": [
        "{\"features\": [{\"geometry\": {\"coordinates\": [13.4542575, 52.5077138], \"type\": \"Point\"}, \"id\": \"Crack Bellmer\", \"properties\": {\"artists\": [{\"name\": \"Minimal Lounge\", \"ra_artist_id\": \"minimallounge\", \"sc_link\": \"http://www.soundcloud.com/minimal-lounge\", \"sc_track_id\": 62775456, \"sc_user\": \"minimal-lounge\", \"sc_value\": 114994, \"url\": \"http://www.residentadvisor.net/dj/minimallounge\"}], \"club\": {\"adress\": \" Revaler Strasse 99; 10245 Berlin-Friedrichshain; Berlin;\", \"latlon\": [52.5077138, 13.4542575], \"name\": \"Crack Bellmer\", \"ra_club_id\": \"57853\", \"url\": \"http://www.residentadvisor.net/club.aspx?id=57853\"}, \"date\": \"2014-09-27\", \"name\": \"Houseschuppen at Crack Bellmer\", \"ra_club_id\": \"57853\", \"ra_event_id\": \"638340\", \"url\": \"http://www.residentadvisor.net/event.aspx?638340\"}, \"type\": \"Feature\"}, {\"geometry\": {\"coordinates\": [13.4542575, 52.5077138], \"type\": \"Point\"}, \"id\": \"Urban Spree\", \"properties\": {\"artists\": [{\"name\": \"Jonattan Levingstone\", \"ra_artist_id\": \"jonattanlevingstone\", \"sc_link\": \"http://www.soundcloud.com/jonattan-levingstone\", \"sc_track_id\": 77672153, \"sc_user\": \"jonattan-levingstone\", \"sc_value\": 675, \"url\": \"http://www.residentadvisor.net/dj/jonattanlevingstone\"}, {\"name\": \"Figueroa\", \"ra_artist_id\": \"figueroa\", \"sc_link\": \"http://www.soundcloud.com/figueroa\", \"sc_track_id\": 84160590, \"sc_user\": \"figueroa\", \"sc_value\": 29082, \"url\": \"http://www.residentadvisor.net/dj/figueroa\"}, {\"name\": \"La Fraicheur\", \"ra_artist_id\": \"lafraicheur\", \"sc_link\": \"http://www.soundcloud.com/la-fraicheur\", \"sc_track_id\": 164707826, \"sc_user\": \"la-fraicheur\", \"sc_value\": 4653, \"url\": \"http://www.residentadvisor.net/dj/lafraicheur\"}], \"club\": {\"adress\": \" Revaler Str. 99, 10245 Berlin,\", \"latlon\": [52.5077138, 13.4542575], \"name\": \"Urban Spree\", \"ra_club_id\": \"68748\", \"url\": \"http://www.residentadvisor.net/club.aspx?id=68748\"}, \"date\": \"2014-09-27\", \"name\": \"Satisfactory Factory #5: Berlin's Rock n Roll / Art Collision at Urban Spree\", \"ra_club_id\": \"68748\", \"ra_event_id\": \"635954\", \"url\": \"http://www.residentadvisor.net/event.aspx?635954\"}, \"type\": \"Feature\"}, {\"geometry\": {\"coordinates\": [13.4220073, 52.475866], \"type\": \"Point\"}, \"id\": \"Promenaden Eck\", \"properties\": {\"artists\": [{\"name\": \"Juerga\", \"ra_artist_id\": \"juerga\", \"sc_link\": \"http://www.soundcloud.com/juerga\", \"sc_track_id\": 78360353, \"sc_user\": \"juerga\", \"sc_value\": 2226, \"url\": \"http://www.residentadvisor.net/dj/juerga\"}], \"club\": {\"adress\": \" Schillerpromenade 11, 12049 Berlin\", \"latlon\": [52.475866, 13.4220073], \"name\": \"Promenaden Eck\", \"ra_club_id\": \"88900\", \"url\": \"http://www.residentadvisor.net/club.aspx?id=88900\"}, \"date\": \"2014-09-27\", \"name\": \"Juerga & Funk Faz at Promenaden Eck\", \"ra_club_id\": \"88900\", \"ra_event_id\": \"633000\", \"url\": \"http://www.residentadvisor.net/event.aspx?633000\"}, \"type\": \"Feature\"}, {\"geometry\": {\"coordinates\": [13.46246, 52.50516], \"type\": \"Point\"}, \"id\": \"Rosi's\", \"properties\": {\"artists\": [{\"name\": \"Patryk Molinari\", \"ra_artist_id\": \"patrykmolinari\", \"sc_link\": \"http://www.soundcloud.com/patrykmolinari\", \"sc_track_id\": 58536776, \"sc_user\": \"patrykmolinari\", \"sc_value\": 140290, \"url\": \"http://www.residentadvisor.net/dj/patrykmolinari\"}, {\"name\": \"Fryzeit\", \"ra_artist_id\": \"fryzeit\", \"sc_link\": \"http://www.soundcloud.com/fryzeit\", \"sc_track_id\": 54693814, \"sc_user\": \"fryzeit\", \"sc_value\": 691, \"url\": \"http://www.residentadvisor.net/dj/fryzeit\"}, {\"name\": \"pammin\", \"ra_artist_id\": \"pammin\", \"sc_link\": \"http://www.soundcloud.com/pammin\", \"sc_track_id\": 117846511, \"sc_user\": \"pammin\", \"sc_value\": 73031, \"url\": \"http://www.residentadvisor.net/dj/pammin\"}, {\"name\": \"Wasted Ruffians\", \"ra_artist_id\": \"wastedruffians\", \"sc_link\": \"http://www.soundcloud.com/wasted-ruffians\", \"sc_track_id\": 144016423, \"sc_user\": \"wasted-ruffians\", \"sc_value\": 30032, \"url\": \"http://www.residentadvisor.net/dj/wastedruffians\"}], \"club\": {\"adress\": \" Revaler Strasse 29; Friedrichshain; 10245 Berlin;\", \"latlon\": [52.50516, 13.46246], \"name\": \"Rosi's\", \"ra_club_id\": \"3708\", \"url\": \"http://www.residentadvisor.net/club.aspx?id=3708\"}, \"date\": \"2014-09-27\", \"name\": \"Ease - Pattern at Rosi's\", \"ra_club_id\": \"3708\", \"ra_event_id\": \"622637\", \"url\": \"http://www.residentadvisor.net/event.aspx?622637\"}, \"type\": \"Feature\"}], \"type\": \"FeatureCollection\"}"
       ]
      }
     ],
     "prompt_number": 77
    },
    {
     "cell_type": "code",
     "collapsed": false,
     "input": [
      "geojson.Point(events[0]['club']['latlon'])"
     ],
     "language": "python",
     "metadata": {},
     "outputs": [
      {
       "metadata": {},
       "output_type": "pyout",
       "prompt_number": 16,
       "text": [
        "{\"coordinates\": [52.5108799, 13.4201002], \"type\": \"Point\"}"
       ]
      }
     ],
     "prompt_number": 16
    },
    {
     "cell_type": "code",
     "collapsed": false,
     "input": [],
     "language": "python",
     "metadata": {},
     "outputs": [],
     "prompt_number": 23
    },
    {
     "cell_type": "code",
     "collapsed": false,
     "input": [
      "for e in events:\n",
      "    print e.keys()"
     ],
     "language": "python",
     "metadata": {},
     "outputs": [
      {
       "output_type": "stream",
       "stream": "stdout",
       "text": [
        "[u'name', u'club', u'url', u'artists', u'date', u'ra_club_id', u'ra_event_id']\n",
        "[u'date', u'url', u'name', u'ra_event_id', u'artists']\n",
        "[u'name', u'club', u'url', u'artists', u'date', u'ra_club_id', u'ra_event_id']\n",
        "[u'name', u'club', u'url', u'artists', u'date', u'ra_club_id', u'ra_event_id']\n"
       ]
      }
     ],
     "prompt_number": 25
    },
    {
     "cell_type": "code",
     "collapsed": false,
     "input": [],
     "language": "python",
     "metadata": {},
     "outputs": []
    }
   ],
   "metadata": {}
  }
 ]
}